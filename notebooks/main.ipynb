{
 "cells": [
  {
   "cell_type": "code",
   "execution_count": 1,
   "id": "ea581529",
   "metadata": {},
   "outputs": [],
   "source": [
    "## end to end implementation of the whole process"
   ]
  },
  {
   "cell_type": "code",
   "execution_count": null,
   "id": "ff089698",
   "metadata": {},
   "outputs": [],
   "source": []
  }
 ],
 "metadata": {
  "kernelspec": {
   "display_name": "comps",
   "language": "python",
   "name": "python3"
  },
  "language_info": {
   "codemirror_mode": {
    "name": "ipython",
    "version": 3
   },
   "file_extension": ".py",
   "mimetype": "text/x-python",
   "name": "python",
   "nbconvert_exporter": "python",
   "pygments_lexer": "ipython3",
   "version": "3.11.11"
  }
 },
 "nbformat": 4,
 "nbformat_minor": 5
}
